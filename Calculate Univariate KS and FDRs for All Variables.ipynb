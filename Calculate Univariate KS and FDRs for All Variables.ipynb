{
 "cells": [
  {
   "cell_type": "code",
   "execution_count": 5,
   "metadata": {},
   "outputs": [],
   "source": [
    "import pandas as pd\n",
    "import numpy as np\n",
    "from scipy.stats import zscore"
   ]
  },
  {
   "cell_type": "code",
   "execution_count": 6,
   "metadata": {},
   "outputs": [],
   "source": [
    "card_ref = pd.read_csv('data_with_expert_var.csv')"
   ]
  },
  {
   "cell_type": "markdown",
   "metadata": {},
   "source": [
    "### Drop OutofTime data"
   ]
  },
  {
   "cell_type": "code",
   "execution_count": 7,
   "metadata": {},
   "outputs": [],
   "source": [
    "fraud = card_ref[['Fraud']]"
   ]
  },
  {
   "cell_type": "code",
   "execution_count": 4,
   "metadata": {},
   "outputs": [],
   "source": [
    "card_ref.drop(['Recnum'],axis = 1,inplace = True)\n",
    "card_ref.drop(['Unnamed: 0'],axis = 1,inplace = True)\n",
    "card_ref.drop(['Transtype'],axis = 1,inplace = True)\n",
    "card_ref.drop(['Merchnum'],axis = 1,inplace = True)\n",
    "card_ref.drop(['Merch state'],axis = 1,inplace = True)\n",
    "card_ref.drop(['Merch zip'],axis = 1,inplace = True)\n",
    "card_ref.drop(['Cardnum'],axis = 1,inplace = True)\n",
    "card_ref.drop(['Merch description'],axis = 1,inplace = True)\n",
    "card_ref.drop(['Date'],axis = 1,inplace = True)"
   ]
  },
  {
   "cell_type": "code",
   "execution_count": 89,
   "metadata": {
    "collapsed": true
   },
   "outputs": [],
   "source": [
    "#z scale data \n",
    "card_ref_scale = card_ref.loc[:,card_ref.columns !='Fraud'].apply(zscore)"
   ]
  },
  {
   "cell_type": "code",
   "execution_count": 90,
   "metadata": {
    "collapsed": true
   },
   "outputs": [],
   "source": [
    "card_ref = pd.concat([card_ref_scale,fraud],axis='columns')"
   ]
  },
  {
   "cell_type": "code",
   "execution_count": 92,
   "metadata": {
    "collapsed": true
   },
   "outputs": [],
   "source": [
    "#last step\n",
    "card_ref['RANDOM'] = np.random.ranf(len(card_ref))"
   ]
  },
  {
   "cell_type": "code",
   "execution_count": 94,
   "metadata": {},
   "outputs": [
    {
     "data": {
      "text/plain": [
       "Index(['Amount', 'avg_card_0', 'avg_card_1', 'avg_card_3', 'avg_card_7',\n",
       "       'avg_card_14', 'avg_card_30', 'max_card_0', 'max_card_1', 'max_card_3',\n",
       "       ...\n",
       "       'vcv_am1_nm14', 'vcv_am1_nm30', 'vcv_am1_ac7', 'vcv_am1_ac14',\n",
       "       'vcv_am1_ac30', 'vcv_am1_am7', 'vcv_am1_am14', 'vcv_am1_am30', 'Fraud',\n",
       "       'RANDOM'],\n",
       "      dtype='object', length=374)"
      ]
     },
     "execution_count": 94,
     "metadata": {},
     "output_type": "execute_result"
    }
   ],
   "source": [
    "card_ref.columns"
   ]
  },
  {
   "cell_type": "code",
   "execution_count": 95,
   "metadata": {},
   "outputs": [
    {
     "data": {
      "text/plain": [
       "83970"
      ]
     },
     "execution_count": 95,
     "metadata": {},
     "output_type": "execute_result"
    }
   ],
   "source": [
    "card_ref.shape[0]"
   ]
  },
  {
   "cell_type": "code",
   "execution_count": 96,
   "metadata": {},
   "outputs": [
    {
     "data": {
      "text/plain": [
       "374"
      ]
     },
     "execution_count": 96,
     "metadata": {},
     "output_type": "execute_result"
    }
   ],
   "source": [
    "card_ref.shape[1]"
   ]
  },
  {
   "cell_type": "code",
   "execution_count": null,
   "metadata": {},
   "outputs": [],
   "source": [
    "oot_data = card_ref[card_ref_scale.Recnum>84299]\n",
    "card_ref = card_ref[card_ref_scale.Recnum<=84299]"
   ]
  },
  {
   "cell_type": "code",
   "execution_count": 121,
   "metadata": {
    "collapsed": true
   },
   "outputs": [],
   "source": [
    "card_ref.to_csv('data_expert_var_scale.csv')"
   ]
  },
  {
   "cell_type": "code",
   "execution_count": 8,
   "metadata": {},
   "outputs": [],
   "source": [
    "card_ref = pd.read_csv('scaled_modeling_data.csv')"
   ]
  },
  {
   "cell_type": "code",
   "execution_count": 9,
   "metadata": {},
   "outputs": [],
   "source": [
    "del card_ref['Date']"
   ]
  },
  {
   "cell_type": "code",
   "execution_count": 10,
   "metadata": {},
   "outputs": [],
   "source": [
    "card_ref['RANDOM'] = np.random.ranf(len(card_ref))"
   ]
  },
  {
   "cell_type": "code",
   "execution_count": 12,
   "metadata": {},
   "outputs": [],
   "source": [
    "del card_ref['Unnamed: 0']"
   ]
  },
  {
   "cell_type": "code",
   "execution_count": 13,
   "metadata": {},
   "outputs": [
    {
     "data": {
      "text/html": [
       "<div>\n",
       "<style scoped>\n",
       "    .dataframe tbody tr th:only-of-type {\n",
       "        vertical-align: middle;\n",
       "    }\n",
       "\n",
       "    .dataframe tbody tr th {\n",
       "        vertical-align: top;\n",
       "    }\n",
       "\n",
       "    .dataframe thead th {\n",
       "        text-align: right;\n",
       "    }\n",
       "</style>\n",
       "<table border=\"1\" class=\"dataframe\">\n",
       "  <thead>\n",
       "    <tr style=\"text-align: right;\">\n",
       "      <th></th>\n",
       "      <th>Amount</th>\n",
       "      <th>avg_card_0</th>\n",
       "      <th>avg_card_1</th>\n",
       "      <th>avg_card_3</th>\n",
       "      <th>avg_card_7</th>\n",
       "      <th>avg_card_14</th>\n",
       "      <th>avg_card_30</th>\n",
       "      <th>max_card_0</th>\n",
       "      <th>max_card_1</th>\n",
       "      <th>max_card_3</th>\n",
       "      <th>...</th>\n",
       "      <th>vcv_am1_nm14</th>\n",
       "      <th>vcv_am1_nm30</th>\n",
       "      <th>vcv_am1_ac7</th>\n",
       "      <th>vcv_am1_ac14</th>\n",
       "      <th>vcv_am1_ac30</th>\n",
       "      <th>vcv_am1_am7</th>\n",
       "      <th>vcv_am1_am14</th>\n",
       "      <th>vcv_am1_am30</th>\n",
       "      <th>Fraud</th>\n",
       "      <th>RANDOM</th>\n",
       "    </tr>\n",
       "  </thead>\n",
       "  <tbody>\n",
       "    <tr>\n",
       "      <th>0</th>\n",
       "      <td>-0.471256</td>\n",
       "      <td>-0.504523</td>\n",
       "      <td>-0.546231</td>\n",
       "      <td>-0.600749</td>\n",
       "      <td>-0.676036</td>\n",
       "      <td>-0.720684</td>\n",
       "      <td>-0.782517</td>\n",
       "      <td>-0.457968</td>\n",
       "      <td>-0.487011</td>\n",
       "      <td>-0.528318</td>\n",
       "      <td>...</td>\n",
       "      <td>-0.223322</td>\n",
       "      <td>-0.242971</td>\n",
       "      <td>-0.005725</td>\n",
       "      <td>0.000149</td>\n",
       "      <td>0.001945</td>\n",
       "      <td>0.001255</td>\n",
       "      <td>0.001983</td>\n",
       "      <td>0.000843</td>\n",
       "      <td>0</td>\n",
       "      <td>0.227042</td>\n",
       "    </tr>\n",
       "    <tr>\n",
       "      <th>1</th>\n",
       "      <td>-0.437856</td>\n",
       "      <td>-0.468810</td>\n",
       "      <td>-0.507753</td>\n",
       "      <td>-0.558363</td>\n",
       "      <td>-0.628430</td>\n",
       "      <td>-0.669873</td>\n",
       "      <td>-0.727255</td>\n",
       "      <td>-0.432435</td>\n",
       "      <td>-0.464847</td>\n",
       "      <td>-0.508452</td>\n",
       "      <td>...</td>\n",
       "      <td>-0.223322</td>\n",
       "      <td>-0.242971</td>\n",
       "      <td>-0.005725</td>\n",
       "      <td>0.000149</td>\n",
       "      <td>0.001945</td>\n",
       "      <td>0.001255</td>\n",
       "      <td>0.001983</td>\n",
       "      <td>0.000843</td>\n",
       "      <td>0</td>\n",
       "      <td>0.239608</td>\n",
       "    </tr>\n",
       "    <tr>\n",
       "      <th>2</th>\n",
       "      <td>-0.261158</td>\n",
       "      <td>-0.279881</td>\n",
       "      <td>-0.304192</td>\n",
       "      <td>-0.334129</td>\n",
       "      <td>-0.376581</td>\n",
       "      <td>-0.401066</td>\n",
       "      <td>-0.434899</td>\n",
       "      <td>-0.297359</td>\n",
       "      <td>-0.347592</td>\n",
       "      <td>-0.403356</td>\n",
       "      <td>...</td>\n",
       "      <td>-0.223322</td>\n",
       "      <td>-0.242971</td>\n",
       "      <td>-0.005725</td>\n",
       "      <td>0.000149</td>\n",
       "      <td>0.001945</td>\n",
       "      <td>0.001255</td>\n",
       "      <td>0.001983</td>\n",
       "      <td>0.000843</td>\n",
       "      <td>0</td>\n",
       "      <td>0.906052</td>\n",
       "    </tr>\n",
       "    <tr>\n",
       "      <th>3</th>\n",
       "      <td>-0.471256</td>\n",
       "      <td>-0.504400</td>\n",
       "      <td>-0.546098</td>\n",
       "      <td>-0.600603</td>\n",
       "      <td>-0.675872</td>\n",
       "      <td>-0.720509</td>\n",
       "      <td>-0.782326</td>\n",
       "      <td>-0.457802</td>\n",
       "      <td>-0.486867</td>\n",
       "      <td>-0.528189</td>\n",
       "      <td>...</td>\n",
       "      <td>-0.223322</td>\n",
       "      <td>-0.242971</td>\n",
       "      <td>-0.005725</td>\n",
       "      <td>0.000149</td>\n",
       "      <td>0.001945</td>\n",
       "      <td>0.001255</td>\n",
       "      <td>0.001983</td>\n",
       "      <td>0.000843</td>\n",
       "      <td>0</td>\n",
       "      <td>0.800233</td>\n",
       "    </tr>\n",
       "    <tr>\n",
       "      <th>4</th>\n",
       "      <td>-0.471256</td>\n",
       "      <td>-0.504523</td>\n",
       "      <td>-0.546231</td>\n",
       "      <td>-0.600749</td>\n",
       "      <td>-0.676036</td>\n",
       "      <td>-0.720684</td>\n",
       "      <td>-0.782517</td>\n",
       "      <td>-0.457968</td>\n",
       "      <td>-0.487011</td>\n",
       "      <td>-0.528318</td>\n",
       "      <td>...</td>\n",
       "      <td>-0.223322</td>\n",
       "      <td>-0.242971</td>\n",
       "      <td>-0.005725</td>\n",
       "      <td>0.000149</td>\n",
       "      <td>0.001945</td>\n",
       "      <td>0.001255</td>\n",
       "      <td>0.001983</td>\n",
       "      <td>0.000843</td>\n",
       "      <td>0</td>\n",
       "      <td>0.296997</td>\n",
       "    </tr>\n",
       "  </tbody>\n",
       "</table>\n",
       "<p>5 rows × 374 columns</p>\n",
       "</div>"
      ],
      "text/plain": [
       "     Amount  avg_card_0  avg_card_1  avg_card_3  avg_card_7  avg_card_14  \\\n",
       "0 -0.471256   -0.504523   -0.546231   -0.600749   -0.676036    -0.720684   \n",
       "1 -0.437856   -0.468810   -0.507753   -0.558363   -0.628430    -0.669873   \n",
       "2 -0.261158   -0.279881   -0.304192   -0.334129   -0.376581    -0.401066   \n",
       "3 -0.471256   -0.504400   -0.546098   -0.600603   -0.675872    -0.720509   \n",
       "4 -0.471256   -0.504523   -0.546231   -0.600749   -0.676036    -0.720684   \n",
       "\n",
       "   avg_card_30  max_card_0  max_card_1  max_card_3    ...     vcv_am1_nm14  \\\n",
       "0    -0.782517   -0.457968   -0.487011   -0.528318    ...        -0.223322   \n",
       "1    -0.727255   -0.432435   -0.464847   -0.508452    ...        -0.223322   \n",
       "2    -0.434899   -0.297359   -0.347592   -0.403356    ...        -0.223322   \n",
       "3    -0.782326   -0.457802   -0.486867   -0.528189    ...        -0.223322   \n",
       "4    -0.782517   -0.457968   -0.487011   -0.528318    ...        -0.223322   \n",
       "\n",
       "   vcv_am1_nm30  vcv_am1_ac7  vcv_am1_ac14  vcv_am1_ac30  vcv_am1_am7  \\\n",
       "0     -0.242971    -0.005725      0.000149      0.001945     0.001255   \n",
       "1     -0.242971    -0.005725      0.000149      0.001945     0.001255   \n",
       "2     -0.242971    -0.005725      0.000149      0.001945     0.001255   \n",
       "3     -0.242971    -0.005725      0.000149      0.001945     0.001255   \n",
       "4     -0.242971    -0.005725      0.000149      0.001945     0.001255   \n",
       "\n",
       "   vcv_am1_am14  vcv_am1_am30  Fraud    RANDOM  \n",
       "0      0.001983      0.000843      0  0.227042  \n",
       "1      0.001983      0.000843      0  0.239608  \n",
       "2      0.001983      0.000843      0  0.906052  \n",
       "3      0.001983      0.000843      0  0.800233  \n",
       "4      0.001983      0.000843      0  0.296997  \n",
       "\n",
       "[5 rows x 374 columns]"
      ]
     },
     "execution_count": 13,
     "metadata": {},
     "output_type": "execute_result"
    }
   ],
   "source": [
    "card_ref.head()"
   ]
  },
  {
   "cell_type": "code",
   "execution_count": null,
   "metadata": {},
   "outputs": [],
   "source": []
  },
  {
   "cell_type": "markdown",
   "metadata": {},
   "source": [
    "### KS"
   ]
  },
  {
   "cell_type": "code",
   "execution_count": 14,
   "metadata": {},
   "outputs": [],
   "source": [
    "VarTable = pd.DataFrame(index=range(card_ref.shape[1]),columns=range(3))\n",
    "VarTable.columns =['Variable','KS','FDR']"
   ]
  },
  {
   "cell_type": "code",
   "execution_count": 15,
   "metadata": {},
   "outputs": [
    {
     "data": {
      "text/plain": [
       "(374, 3)"
      ]
     },
     "execution_count": 15,
     "metadata": {},
     "output_type": "execute_result"
    }
   ],
   "source": [
    "VarTable.shape"
   ]
  },
  {
   "cell_type": "code",
   "execution_count": 16,
   "metadata": {},
   "outputs": [],
   "source": [
    "i = 0\n",
    "for col in card_ref:\n",
    "    VarTable.iloc[i,0] = col\n",
    "    i+=1"
   ]
  },
  {
   "cell_type": "code",
   "execution_count": 17,
   "metadata": {},
   "outputs": [
    {
     "data": {
      "text/html": [
       "<div>\n",
       "<style scoped>\n",
       "    .dataframe tbody tr th:only-of-type {\n",
       "        vertical-align: middle;\n",
       "    }\n",
       "\n",
       "    .dataframe tbody tr th {\n",
       "        vertical-align: top;\n",
       "    }\n",
       "\n",
       "    .dataframe thead th {\n",
       "        text-align: right;\n",
       "    }\n",
       "</style>\n",
       "<table border=\"1\" class=\"dataframe\">\n",
       "  <thead>\n",
       "    <tr style=\"text-align: right;\">\n",
       "      <th></th>\n",
       "      <th>Variable</th>\n",
       "      <th>KS</th>\n",
       "      <th>FDR</th>\n",
       "    </tr>\n",
       "  </thead>\n",
       "  <tbody>\n",
       "    <tr>\n",
       "      <th>0</th>\n",
       "      <td>Amount</td>\n",
       "      <td>NaN</td>\n",
       "      <td>NaN</td>\n",
       "    </tr>\n",
       "    <tr>\n",
       "      <th>1</th>\n",
       "      <td>avg_card_0</td>\n",
       "      <td>NaN</td>\n",
       "      <td>NaN</td>\n",
       "    </tr>\n",
       "    <tr>\n",
       "      <th>2</th>\n",
       "      <td>avg_card_1</td>\n",
       "      <td>NaN</td>\n",
       "      <td>NaN</td>\n",
       "    </tr>\n",
       "    <tr>\n",
       "      <th>3</th>\n",
       "      <td>avg_card_3</td>\n",
       "      <td>NaN</td>\n",
       "      <td>NaN</td>\n",
       "    </tr>\n",
       "    <tr>\n",
       "      <th>4</th>\n",
       "      <td>avg_card_7</td>\n",
       "      <td>NaN</td>\n",
       "      <td>NaN</td>\n",
       "    </tr>\n",
       "  </tbody>\n",
       "</table>\n",
       "</div>"
      ],
      "text/plain": [
       "     Variable   KS  FDR\n",
       "0      Amount  NaN  NaN\n",
       "1  avg_card_0  NaN  NaN\n",
       "2  avg_card_1  NaN  NaN\n",
       "3  avg_card_3  NaN  NaN\n",
       "4  avg_card_7  NaN  NaN"
      ]
     },
     "execution_count": 17,
     "metadata": {},
     "output_type": "execute_result"
    }
   ],
   "source": [
    "VarTable.head()"
   ]
  },
  {
   "cell_type": "code",
   "execution_count": 18,
   "metadata": {},
   "outputs": [],
   "source": [
    "from scipy.stats import ks_2samp\n",
    "goods = card_ref[card_ref.Fraud == 0]\n",
    "bads = card_ref[card_ref.Fraud == 1]"
   ]
  },
  {
   "cell_type": "code",
   "execution_count": 19,
   "metadata": {},
   "outputs": [],
   "source": [
    "i = 0\n",
    "for col in card_ref:\n",
    "    VarTable.KS[i] = ks_2samp(goods[col],bads[col])[0]\n",
    "    i+=1"
   ]
  },
  {
   "cell_type": "code",
   "execution_count": 20,
   "metadata": {},
   "outputs": [],
   "source": [
    "KS = VarTable.sort_values(['KS'],ascending=False)"
   ]
  },
  {
   "cell_type": "code",
   "execution_count": 21,
   "metadata": {},
   "outputs": [
    {
     "data": {
      "text/html": [
       "<div>\n",
       "<style scoped>\n",
       "    .dataframe tbody tr th:only-of-type {\n",
       "        vertical-align: middle;\n",
       "    }\n",
       "\n",
       "    .dataframe tbody tr th {\n",
       "        vertical-align: top;\n",
       "    }\n",
       "\n",
       "    .dataframe thead th {\n",
       "        text-align: right;\n",
       "    }\n",
       "</style>\n",
       "<table border=\"1\" class=\"dataframe\">\n",
       "  <thead>\n",
       "    <tr style=\"text-align: right;\">\n",
       "      <th></th>\n",
       "      <th>Variable</th>\n",
       "      <th>KS</th>\n",
       "      <th>FDR</th>\n",
       "    </tr>\n",
       "  </thead>\n",
       "  <tbody>\n",
       "    <tr>\n",
       "      <th>275</th>\n",
       "      <td>days_since_cs</td>\n",
       "      <td>0.29858</td>\n",
       "      <td>NaN</td>\n",
       "    </tr>\n",
       "  </tbody>\n",
       "</table>\n",
       "</div>"
      ],
      "text/plain": [
       "          Variable       KS  FDR\n",
       "275  days_since_cs  0.29858  NaN"
      ]
     },
     "execution_count": 21,
     "metadata": {},
     "output_type": "execute_result"
    }
   ],
   "source": [
    "KS[KS['Variable']=='days_since_cs']"
   ]
  },
  {
   "cell_type": "code",
   "execution_count": 22,
   "metadata": {},
   "outputs": [
    {
     "data": {
      "text/html": [
       "<div>\n",
       "<style scoped>\n",
       "    .dataframe tbody tr th:only-of-type {\n",
       "        vertical-align: middle;\n",
       "    }\n",
       "\n",
       "    .dataframe tbody tr th {\n",
       "        vertical-align: top;\n",
       "    }\n",
       "\n",
       "    .dataframe thead th {\n",
       "        text-align: right;\n",
       "    }\n",
       "</style>\n",
       "<table border=\"1\" class=\"dataframe\">\n",
       "  <thead>\n",
       "    <tr style=\"text-align: right;\">\n",
       "      <th></th>\n",
       "      <th>Variable</th>\n",
       "      <th>KS</th>\n",
       "      <th>FDR</th>\n",
       "    </tr>\n",
       "  </thead>\n",
       "  <tbody>\n",
       "    <tr>\n",
       "      <th>372</th>\n",
       "      <td>Fraud</td>\n",
       "      <td>1</td>\n",
       "      <td>NaN</td>\n",
       "    </tr>\n",
       "    <tr>\n",
       "      <th>187</th>\n",
       "      <td>tot_cz_7</td>\n",
       "      <td>0.674544</td>\n",
       "      <td>NaN</td>\n",
       "    </tr>\n",
       "    <tr>\n",
       "      <th>241</th>\n",
       "      <td>tot_cs_3</td>\n",
       "      <td>0.66961</td>\n",
       "      <td>NaN</td>\n",
       "    </tr>\n",
       "    <tr>\n",
       "      <th>186</th>\n",
       "      <td>tot_cz_3</td>\n",
       "      <td>0.668773</td>\n",
       "      <td>NaN</td>\n",
       "    </tr>\n",
       "    <tr>\n",
       "      <th>242</th>\n",
       "      <td>tot_cs_7</td>\n",
       "      <td>0.666733</td>\n",
       "      <td>NaN</td>\n",
       "    </tr>\n",
       "  </tbody>\n",
       "</table>\n",
       "</div>"
      ],
      "text/plain": [
       "     Variable        KS  FDR\n",
       "372     Fraud         1  NaN\n",
       "187  tot_cz_7  0.674544  NaN\n",
       "241  tot_cs_3   0.66961  NaN\n",
       "186  tot_cz_3  0.668773  NaN\n",
       "242  tot_cs_7  0.666733  NaN"
      ]
     },
     "execution_count": 22,
     "metadata": {},
     "output_type": "execute_result"
    }
   ],
   "source": [
    "KS.head()"
   ]
  },
  {
   "cell_type": "markdown",
   "metadata": {},
   "source": [
    "### FDR"
   ]
  },
  {
   "cell_type": "code",
   "execution_count": 23,
   "metadata": {},
   "outputs": [],
   "source": [
    "i = 0\n",
    "topn = int(round(len(card_ref)*0.03,0))\n",
    "for col in card_ref:\n",
    "    top1 = card_ref.sort_values([col],ascending=True).head(topn)\n",
    "    top2 = card_ref.sort_values([col],ascending=False).head(topn)\n",
    "    FDR1 = (top1.Fraud.sum())/len(bads)\n",
    "    FDR2 = (top2.Fraud.sum())/len(bads)\n",
    "    VarTable.FDR[i] = max(FDR1,FDR2)\n",
    "    i+=1"
   ]
  },
  {
   "cell_type": "code",
   "execution_count": 24,
   "metadata": {},
   "outputs": [
    {
     "data": {
      "text/html": [
       "<div>\n",
       "<style scoped>\n",
       "    .dataframe tbody tr th:only-of-type {\n",
       "        vertical-align: middle;\n",
       "    }\n",
       "\n",
       "    .dataframe tbody tr th {\n",
       "        vertical-align: top;\n",
       "    }\n",
       "\n",
       "    .dataframe thead th {\n",
       "        text-align: right;\n",
       "    }\n",
       "</style>\n",
       "<table border=\"1\" class=\"dataframe\">\n",
       "  <thead>\n",
       "    <tr style=\"text-align: right;\">\n",
       "      <th></th>\n",
       "      <th>Variable</th>\n",
       "      <th>KS</th>\n",
       "      <th>FDR</th>\n",
       "    </tr>\n",
       "  </thead>\n",
       "  <tbody>\n",
       "    <tr>\n",
       "      <th>0</th>\n",
       "      <td>Amount</td>\n",
       "      <td>0.543573</td>\n",
       "      <td>0.313636</td>\n",
       "    </tr>\n",
       "    <tr>\n",
       "      <th>1</th>\n",
       "      <td>avg_card_0</td>\n",
       "      <td>0.539028</td>\n",
       "      <td>0.294318</td>\n",
       "    </tr>\n",
       "    <tr>\n",
       "      <th>2</th>\n",
       "      <td>avg_card_1</td>\n",
       "      <td>0.537805</td>\n",
       "      <td>0.323864</td>\n",
       "    </tr>\n",
       "    <tr>\n",
       "      <th>3</th>\n",
       "      <td>avg_card_3</td>\n",
       "      <td>0.546009</td>\n",
       "      <td>0.331818</td>\n",
       "    </tr>\n",
       "    <tr>\n",
       "      <th>4</th>\n",
       "      <td>avg_card_7</td>\n",
       "      <td>0.505248</td>\n",
       "      <td>0.380682</td>\n",
       "    </tr>\n",
       "  </tbody>\n",
       "</table>\n",
       "</div>"
      ],
      "text/plain": [
       "     Variable        KS       FDR\n",
       "0      Amount  0.543573  0.313636\n",
       "1  avg_card_0  0.539028  0.294318\n",
       "2  avg_card_1  0.537805  0.323864\n",
       "3  avg_card_3  0.546009  0.331818\n",
       "4  avg_card_7  0.505248  0.380682"
      ]
     },
     "execution_count": 24,
     "metadata": {},
     "output_type": "execute_result"
    }
   ],
   "source": [
    "VarTable.head()"
   ]
  },
  {
   "cell_type": "code",
   "execution_count": 25,
   "metadata": {},
   "outputs": [],
   "source": [
    "FDR = VarTable.sort_values(['FDR'],ascending=False).reset_index()"
   ]
  },
  {
   "cell_type": "code",
   "execution_count": 26,
   "metadata": {},
   "outputs": [],
   "source": [
    "KS = VarTable.sort_values(['KS'],ascending = False).reset_index()"
   ]
  },
  {
   "cell_type": "code",
   "execution_count": 27,
   "metadata": {},
   "outputs": [],
   "source": [
    "FDR_rank=FDR.reset_index()"
   ]
  },
  {
   "cell_type": "code",
   "execution_count": 28,
   "metadata": {},
   "outputs": [],
   "source": [
    "del FDR_rank['index']"
   ]
  },
  {
   "cell_type": "code",
   "execution_count": 29,
   "metadata": {},
   "outputs": [],
   "source": [
    "FDR_rank.columns=['FDR_order','Variable','KS','FDR']"
   ]
  },
  {
   "cell_type": "code",
   "execution_count": 30,
   "metadata": {},
   "outputs": [
    {
     "data": {
      "text/plain": [
       "(374, 4)"
      ]
     },
     "execution_count": 30,
     "metadata": {},
     "output_type": "execute_result"
    }
   ],
   "source": [
    "FDR_rank.shape"
   ]
  },
  {
   "cell_type": "code",
   "execution_count": 31,
   "metadata": {},
   "outputs": [],
   "source": [
    "KS_rank=KS.reset_index()\n",
    "del KS_rank['index']\n",
    "KS_rank.columns=['KS_order','Variable','KS','FDR']"
   ]
  },
  {
   "cell_type": "code",
   "execution_count": 32,
   "metadata": {},
   "outputs": [],
   "source": [
    "merge_data=FDR_rank.merge(KS_rank,on=['Variable','KS','FDR'])"
   ]
  },
  {
   "cell_type": "code",
   "execution_count": 33,
   "metadata": {},
   "outputs": [],
   "source": [
    "merge_data = merge_data[['Variable','KS','FDR','KS_order','FDR_order']]"
   ]
  },
  {
   "cell_type": "code",
   "execution_count": 34,
   "metadata": {},
   "outputs": [
    {
     "data": {
      "text/plain": [
       "(374, 5)"
      ]
     },
     "execution_count": 34,
     "metadata": {},
     "output_type": "execute_result"
    }
   ],
   "source": [
    "merge_data.shape"
   ]
  },
  {
   "cell_type": "code",
   "execution_count": 35,
   "metadata": {},
   "outputs": [],
   "source": [
    "merge_data.to_csv('ks_fdr_table.csv')"
   ]
  },
  {
   "cell_type": "code",
   "execution_count": 36,
   "metadata": {},
   "outputs": [
    {
     "data": {
      "text/html": [
       "<div>\n",
       "<style scoped>\n",
       "    .dataframe tbody tr th:only-of-type {\n",
       "        vertical-align: middle;\n",
       "    }\n",
       "\n",
       "    .dataframe tbody tr th {\n",
       "        vertical-align: top;\n",
       "    }\n",
       "\n",
       "    .dataframe thead th {\n",
       "        text-align: right;\n",
       "    }\n",
       "</style>\n",
       "<table border=\"1\" class=\"dataframe\">\n",
       "  <thead>\n",
       "    <tr style=\"text-align: right;\">\n",
       "      <th></th>\n",
       "      <th>Variable</th>\n",
       "      <th>KS</th>\n",
       "      <th>FDR</th>\n",
       "      <th>KS_order</th>\n",
       "      <th>FDR_order</th>\n",
       "    </tr>\n",
       "  </thead>\n",
       "  <tbody>\n",
       "    <tr>\n",
       "      <th>0</th>\n",
       "      <td>Fraud</td>\n",
       "      <td>1</td>\n",
       "      <td>1</td>\n",
       "      <td>0</td>\n",
       "      <td>0</td>\n",
       "    </tr>\n",
       "    <tr>\n",
       "      <th>1</th>\n",
       "      <td>tot_cz_3</td>\n",
       "      <td>0.668773</td>\n",
       "      <td>0.628409</td>\n",
       "      <td>3</td>\n",
       "      <td>1</td>\n",
       "    </tr>\n",
       "    <tr>\n",
       "      <th>2</th>\n",
       "      <td>tot_cz_7</td>\n",
       "      <td>0.674544</td>\n",
       "      <td>0.623864</td>\n",
       "      <td>1</td>\n",
       "      <td>2</td>\n",
       "    </tr>\n",
       "    <tr>\n",
       "      <th>3</th>\n",
       "      <td>tot_cs_3</td>\n",
       "      <td>0.66961</td>\n",
       "      <td>0.621591</td>\n",
       "      <td>2</td>\n",
       "      <td>3</td>\n",
       "    </tr>\n",
       "    <tr>\n",
       "      <th>4</th>\n",
       "      <td>tot_cm_7</td>\n",
       "      <td>0.665307</td>\n",
       "      <td>0.611364</td>\n",
       "      <td>5</td>\n",
       "      <td>4</td>\n",
       "    </tr>\n",
       "  </tbody>\n",
       "</table>\n",
       "</div>"
      ],
      "text/plain": [
       "   Variable        KS       FDR  KS_order  FDR_order\n",
       "0     Fraud         1         1         0          0\n",
       "1  tot_cz_3  0.668773  0.628409         3          1\n",
       "2  tot_cz_7  0.674544  0.623864         1          2\n",
       "3  tot_cs_3   0.66961  0.621591         2          3\n",
       "4  tot_cm_7  0.665307  0.611364         5          4"
      ]
     },
     "execution_count": 36,
     "metadata": {},
     "output_type": "execute_result"
    }
   ],
   "source": [
    "merge_data.head()"
   ]
  },
  {
   "cell_type": "code",
   "execution_count": 37,
   "metadata": {},
   "outputs": [],
   "source": [
    "merge_data=merge_data.sort_values(['KS_order'],ascending=True)"
   ]
  },
  {
   "cell_type": "markdown",
   "metadata": {},
   "source": [
    "# Univariate (KS,FDR): choose half variables"
   ]
  },
  {
   "cell_type": "code",
   "execution_count": 38,
   "metadata": {},
   "outputs": [],
   "source": [
    "merge_data = merge_data.loc[-merge_data['Variable'].isin(['Fraud','RANDOM']),:]"
   ]
  },
  {
   "cell_type": "code",
   "execution_count": 39,
   "metadata": {},
   "outputs": [],
   "source": [
    "merge_data['KS_FDR_order_avg'] = (merge_data['KS_order'] + merge_data['FDR_order'])/2"
   ]
  },
  {
   "cell_type": "code",
   "execution_count": 40,
   "metadata": {},
   "outputs": [],
   "source": [
    "merge_data = merge_data.sort_values(by='KS_FDR_order_avg')"
   ]
  },
  {
   "cell_type": "code",
   "execution_count": 43,
   "metadata": {},
   "outputs": [],
   "source": [
    "merge_data=merge_data.reset_index()"
   ]
  },
  {
   "cell_type": "code",
   "execution_count": 45,
   "metadata": {},
   "outputs": [],
   "source": [
    "del merge_data['index']"
   ]
  },
  {
   "cell_type": "code",
   "execution_count": 47,
   "metadata": {},
   "outputs": [
    {
     "data": {
      "text/plain": [
       "186.0"
      ]
     },
     "execution_count": 47,
     "metadata": {},
     "output_type": "execute_result"
    }
   ],
   "source": [
    "len(merge_data)/2"
   ]
  },
  {
   "cell_type": "code",
   "execution_count": 50,
   "metadata": {},
   "outputs": [],
   "source": [
    "merge_data=merge_data.iloc[0:186,]"
   ]
  },
  {
   "cell_type": "code",
   "execution_count": 51,
   "metadata": {},
   "outputs": [],
   "source": [
    "merge_data.to_csv('feature_selection_univariate.csv')"
   ]
  },
  {
   "cell_type": "code",
   "execution_count": null,
   "metadata": {
    "collapsed": true
   },
   "outputs": [],
   "source": []
  }
 ],
 "metadata": {
  "kernelspec": {
   "display_name": "Python 3",
   "language": "python",
   "name": "python3"
  },
  "language_info": {
   "codemirror_mode": {
    "name": "ipython",
    "version": 3
   },
   "file_extension": ".py",
   "mimetype": "text/x-python",
   "name": "python",
   "nbconvert_exporter": "python",
   "pygments_lexer": "ipython3",
   "version": "3.7.2"
  }
 },
 "nbformat": 4,
 "nbformat_minor": 2
}
